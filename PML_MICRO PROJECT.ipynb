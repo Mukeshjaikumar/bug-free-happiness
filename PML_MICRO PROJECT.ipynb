{
 "cells": [
  {
   "cell_type": "markdown",
   "id": "482026df",
   "metadata": {},
   "source": [
    "NAME   : MUKESH JAIKUMAR R.N"
   ]
  },
  {
   "cell_type": "markdown",
   "id": "b9da0e24",
   "metadata": {},
   "source": [
    "ROLL.NO: 225229119"
   ]
  },
  {
   "cell_type": "code",
   "execution_count": 1,
   "id": "00c3002f",
   "metadata": {},
   "outputs": [],
   "source": [
    "import numpy as np # linear algebra\n",
    "import pandas as pd # data processing, CSV file I/O (e.g. pd.read_csv)\n",
    "from matplotlib import pyplot as plt # visualization library\n",
    "import seaborn as sns\n",
    "\n",
    "from sklearn.model_selection import train_test_split\n",
    "from sklearn.metrics import mean_absolute_error\n",
    "from sklearn.metrics import r2_score"
   ]
  },
  {
   "cell_type": "code",
   "execution_count": 2,
   "id": "447e6b81",
   "metadata": {},
   "outputs": [
    {
     "name": "stderr",
     "output_type": "stream",
     "text": [
      "C:\\Users\\Nataraj\\AppData\\Local\\Temp\\ipykernel_7028\\3664931153.py:1: DtypeWarning: Columns (47,73) have mixed types. Specify dtype option on import or set low_memory=False.\n",
      "  df_bottle = pd.read_csv('bottle.csv')\n",
      "C:\\Users\\Nataraj\\AppData\\Local\\Temp\\ipykernel_7028\\3664931153.py:2: DtypeWarning: Columns (40,41,44,45,46,47) have mixed types. Specify dtype option on import or set low_memory=False.\n",
      "  df_cast = pd.read_csv('cast.csv')\n"
     ]
    },
    {
     "data": {
      "text/html": [
       "<div>\n",
       "<style scoped>\n",
       "    .dataframe tbody tr th:only-of-type {\n",
       "        vertical-align: middle;\n",
       "    }\n",
       "\n",
       "    .dataframe tbody tr th {\n",
       "        vertical-align: top;\n",
       "    }\n",
       "\n",
       "    .dataframe thead th {\n",
       "        text-align: right;\n",
       "    }\n",
       "</style>\n",
       "<table border=\"1\" class=\"dataframe\">\n",
       "  <thead>\n",
       "    <tr style=\"text-align: right;\">\n",
       "      <th></th>\n",
       "      <th>Cst_Cnt</th>\n",
       "      <th>Btl_Cnt</th>\n",
       "      <th>Sta_ID</th>\n",
       "      <th>Depth_ID</th>\n",
       "      <th>Depthm</th>\n",
       "      <th>T_degC</th>\n",
       "      <th>Salnty</th>\n",
       "      <th>O2ml_L</th>\n",
       "      <th>STheta</th>\n",
       "      <th>O2Sat</th>\n",
       "      <th>...</th>\n",
       "      <th>R_PHAEO</th>\n",
       "      <th>R_PRES</th>\n",
       "      <th>R_SAMP</th>\n",
       "      <th>DIC1</th>\n",
       "      <th>DIC2</th>\n",
       "      <th>TA1</th>\n",
       "      <th>TA2</th>\n",
       "      <th>pH2</th>\n",
       "      <th>pH1</th>\n",
       "      <th>DIC Quality Comment</th>\n",
       "    </tr>\n",
       "  </thead>\n",
       "  <tbody>\n",
       "    <tr>\n",
       "      <th>0</th>\n",
       "      <td>1</td>\n",
       "      <td>1</td>\n",
       "      <td>054.0 056.0</td>\n",
       "      <td>19-4903CR-HY-060-0930-05400560-0000A-3</td>\n",
       "      <td>0</td>\n",
       "      <td>10.50</td>\n",
       "      <td>33.44</td>\n",
       "      <td>NaN</td>\n",
       "      <td>25.649</td>\n",
       "      <td>NaN</td>\n",
       "      <td>...</td>\n",
       "      <td>NaN</td>\n",
       "      <td>0</td>\n",
       "      <td>NaN</td>\n",
       "      <td>NaN</td>\n",
       "      <td>NaN</td>\n",
       "      <td>NaN</td>\n",
       "      <td>NaN</td>\n",
       "      <td>NaN</td>\n",
       "      <td>NaN</td>\n",
       "      <td>NaN</td>\n",
       "    </tr>\n",
       "    <tr>\n",
       "      <th>1</th>\n",
       "      <td>1</td>\n",
       "      <td>2</td>\n",
       "      <td>054.0 056.0</td>\n",
       "      <td>19-4903CR-HY-060-0930-05400560-0008A-3</td>\n",
       "      <td>8</td>\n",
       "      <td>10.46</td>\n",
       "      <td>33.44</td>\n",
       "      <td>NaN</td>\n",
       "      <td>25.656</td>\n",
       "      <td>NaN</td>\n",
       "      <td>...</td>\n",
       "      <td>NaN</td>\n",
       "      <td>8</td>\n",
       "      <td>NaN</td>\n",
       "      <td>NaN</td>\n",
       "      <td>NaN</td>\n",
       "      <td>NaN</td>\n",
       "      <td>NaN</td>\n",
       "      <td>NaN</td>\n",
       "      <td>NaN</td>\n",
       "      <td>NaN</td>\n",
       "    </tr>\n",
       "  </tbody>\n",
       "</table>\n",
       "<p>2 rows × 74 columns</p>\n",
       "</div>"
      ],
      "text/plain": [
       "   Cst_Cnt  Btl_Cnt       Sta_ID                                Depth_ID  \\\n",
       "0        1        1  054.0 056.0  19-4903CR-HY-060-0930-05400560-0000A-3   \n",
       "1        1        2  054.0 056.0  19-4903CR-HY-060-0930-05400560-0008A-3   \n",
       "\n",
       "   Depthm  T_degC  Salnty  O2ml_L  STheta  O2Sat  ...  R_PHAEO  R_PRES  \\\n",
       "0       0   10.50   33.44     NaN  25.649    NaN  ...      NaN       0   \n",
       "1       8   10.46   33.44     NaN  25.656    NaN  ...      NaN       8   \n",
       "\n",
       "   R_SAMP  DIC1  DIC2  TA1  TA2  pH2  pH1  DIC Quality Comment  \n",
       "0     NaN   NaN   NaN  NaN  NaN  NaN  NaN                  NaN  \n",
       "1     NaN   NaN   NaN  NaN  NaN  NaN  NaN                  NaN  \n",
       "\n",
       "[2 rows x 74 columns]"
      ]
     },
     "execution_count": 2,
     "metadata": {},
     "output_type": "execute_result"
    }
   ],
   "source": [
    "df_bottle = pd.read_csv('bottle.csv')\n",
    "df_cast = pd.read_csv('cast.csv')\n",
    "df_bottle.head(2)"
   ]
  },
  {
   "cell_type": "markdown",
   "id": "d0a8bde5",
   "metadata": {},
   "source": [
    "To begin, let's obtain a basic description of the data. This will provide us with a simple and straightforward way to gain initial insights into the data, as well as a basic understanding of its characteristics.\n",
    "\n",
    "One way to accomplish this is by using the describe() function in Python, which returns various summary statistics of the data, excluding NaN values. This function can give us an idea of the mean, standard deviation, minimum, maximum, and quartiles of the data, allowing us to get a sense of the distribution of the data."
   ]
  },
  {
   "cell_type": "code",
   "execution_count": 3,
   "id": "afdcea12",
   "metadata": {},
   "outputs": [
    {
     "data": {
      "text/html": [
       "<div>\n",
       "<style scoped>\n",
       "    .dataframe tbody tr th:only-of-type {\n",
       "        vertical-align: middle;\n",
       "    }\n",
       "\n",
       "    .dataframe tbody tr th {\n",
       "        vertical-align: top;\n",
       "    }\n",
       "\n",
       "    .dataframe thead th {\n",
       "        text-align: right;\n",
       "    }\n",
       "</style>\n",
       "<table border=\"1\" class=\"dataframe\">\n",
       "  <thead>\n",
       "    <tr style=\"text-align: right;\">\n",
       "      <th></th>\n",
       "      <th>Cst_Cnt</th>\n",
       "      <th>Btl_Cnt</th>\n",
       "      <th>Depthm</th>\n",
       "      <th>T_degC</th>\n",
       "      <th>Salnty</th>\n",
       "      <th>O2ml_L</th>\n",
       "      <th>STheta</th>\n",
       "      <th>O2Sat</th>\n",
       "      <th>Oxy_µmol/Kg</th>\n",
       "      <th>BtlNum</th>\n",
       "      <th>...</th>\n",
       "      <th>R_CHLA</th>\n",
       "      <th>R_PHAEO</th>\n",
       "      <th>R_PRES</th>\n",
       "      <th>R_SAMP</th>\n",
       "      <th>DIC1</th>\n",
       "      <th>DIC2</th>\n",
       "      <th>TA1</th>\n",
       "      <th>TA2</th>\n",
       "      <th>pH2</th>\n",
       "      <th>pH1</th>\n",
       "    </tr>\n",
       "  </thead>\n",
       "  <tbody>\n",
       "    <tr>\n",
       "      <th>count</th>\n",
       "      <td>864863.000000</td>\n",
       "      <td>864863.000000</td>\n",
       "      <td>864863.000000</td>\n",
       "      <td>853900.000000</td>\n",
       "      <td>817509.000000</td>\n",
       "      <td>696201.000000</td>\n",
       "      <td>812174.000000</td>\n",
       "      <td>661274.000000</td>\n",
       "      <td>661268.000000</td>\n",
       "      <td>118667.000000</td>\n",
       "      <td>...</td>\n",
       "      <td>225276.000000</td>\n",
       "      <td>225275.000000</td>\n",
       "      <td>864863.000000</td>\n",
       "      <td>122006.000000</td>\n",
       "      <td>1999.000000</td>\n",
       "      <td>224.000000</td>\n",
       "      <td>2084.000000</td>\n",
       "      <td>234.000000</td>\n",
       "      <td>10.000000</td>\n",
       "      <td>84.000000</td>\n",
       "    </tr>\n",
       "    <tr>\n",
       "      <th>mean</th>\n",
       "      <td>17138.790958</td>\n",
       "      <td>432432.000000</td>\n",
       "      <td>226.831951</td>\n",
       "      <td>10.799677</td>\n",
       "      <td>33.840350</td>\n",
       "      <td>3.392468</td>\n",
       "      <td>25.819394</td>\n",
       "      <td>57.103779</td>\n",
       "      <td>148.808694</td>\n",
       "      <td>10.497426</td>\n",
       "      <td>...</td>\n",
       "      <td>0.450225</td>\n",
       "      <td>0.198599</td>\n",
       "      <td>228.395694</td>\n",
       "      <td>162.071521</td>\n",
       "      <td>2153.239714</td>\n",
       "      <td>2168.148330</td>\n",
       "      <td>2256.055845</td>\n",
       "      <td>2278.858803</td>\n",
       "      <td>7.948570</td>\n",
       "      <td>7.910983</td>\n",
       "    </tr>\n",
       "    <tr>\n",
       "      <th>std</th>\n",
       "      <td>10240.949817</td>\n",
       "      <td>249664.587267</td>\n",
       "      <td>316.050259</td>\n",
       "      <td>4.243825</td>\n",
       "      <td>0.461843</td>\n",
       "      <td>2.073256</td>\n",
       "      <td>1.167787</td>\n",
       "      <td>37.094137</td>\n",
       "      <td>90.187533</td>\n",
       "      <td>6.189688</td>\n",
       "      <td>...</td>\n",
       "      <td>1.208566</td>\n",
       "      <td>0.376539</td>\n",
       "      <td>319.456731</td>\n",
       "      <td>85.722796</td>\n",
       "      <td>112.995202</td>\n",
       "      <td>154.852332</td>\n",
       "      <td>34.844435</td>\n",
       "      <td>58.496495</td>\n",
       "      <td>0.021216</td>\n",
       "      <td>0.077666</td>\n",
       "    </tr>\n",
       "    <tr>\n",
       "      <th>min</th>\n",
       "      <td>1.000000</td>\n",
       "      <td>1.000000</td>\n",
       "      <td>0.000000</td>\n",
       "      <td>1.440000</td>\n",
       "      <td>28.431000</td>\n",
       "      <td>-0.010000</td>\n",
       "      <td>20.934000</td>\n",
       "      <td>-0.100000</td>\n",
       "      <td>-0.434900</td>\n",
       "      <td>0.000000</td>\n",
       "      <td>...</td>\n",
       "      <td>-0.010000</td>\n",
       "      <td>-3.890000</td>\n",
       "      <td>0.000000</td>\n",
       "      <td>0.000000</td>\n",
       "      <td>1948.850000</td>\n",
       "      <td>1969.440000</td>\n",
       "      <td>2181.570000</td>\n",
       "      <td>2198.150000</td>\n",
       "      <td>7.923100</td>\n",
       "      <td>7.618300</td>\n",
       "    </tr>\n",
       "    <tr>\n",
       "      <th>25%</th>\n",
       "      <td>8269.000000</td>\n",
       "      <td>216216.500000</td>\n",
       "      <td>46.000000</td>\n",
       "      <td>7.680000</td>\n",
       "      <td>33.488000</td>\n",
       "      <td>1.360000</td>\n",
       "      <td>24.965000</td>\n",
       "      <td>21.100000</td>\n",
       "      <td>60.915470</td>\n",
       "      <td>5.000000</td>\n",
       "      <td>...</td>\n",
       "      <td>0.050000</td>\n",
       "      <td>0.050000</td>\n",
       "      <td>46.000000</td>\n",
       "      <td>200.000000</td>\n",
       "      <td>2028.330000</td>\n",
       "      <td>2008.977500</td>\n",
       "      <td>2230.322500</td>\n",
       "      <td>2229.062500</td>\n",
       "      <td>7.931475</td>\n",
       "      <td>7.898675</td>\n",
       "    </tr>\n",
       "    <tr>\n",
       "      <th>50%</th>\n",
       "      <td>16848.000000</td>\n",
       "      <td>432432.000000</td>\n",
       "      <td>125.000000</td>\n",
       "      <td>10.060000</td>\n",
       "      <td>33.863000</td>\n",
       "      <td>3.440000</td>\n",
       "      <td>25.996000</td>\n",
       "      <td>54.400000</td>\n",
       "      <td>151.064150</td>\n",
       "      <td>10.000000</td>\n",
       "      <td>...</td>\n",
       "      <td>0.160000</td>\n",
       "      <td>0.110000</td>\n",
       "      <td>126.000000</td>\n",
       "      <td>206.000000</td>\n",
       "      <td>2170.640000</td>\n",
       "      <td>2265.885000</td>\n",
       "      <td>2244.325000</td>\n",
       "      <td>2247.505000</td>\n",
       "      <td>7.946650</td>\n",
       "      <td>7.928850</td>\n",
       "    </tr>\n",
       "    <tr>\n",
       "      <th>75%</th>\n",
       "      <td>26557.000000</td>\n",
       "      <td>648647.500000</td>\n",
       "      <td>300.000000</td>\n",
       "      <td>13.880000</td>\n",
       "      <td>34.196900</td>\n",
       "      <td>5.500000</td>\n",
       "      <td>26.646000</td>\n",
       "      <td>97.600000</td>\n",
       "      <td>240.379600</td>\n",
       "      <td>16.000000</td>\n",
       "      <td>...</td>\n",
       "      <td>0.390000</td>\n",
       "      <td>0.230000</td>\n",
       "      <td>302.000000</td>\n",
       "      <td>214.000000</td>\n",
       "      <td>2253.810000</td>\n",
       "      <td>2315.525000</td>\n",
       "      <td>2278.505000</td>\n",
       "      <td>2316.452500</td>\n",
       "      <td>7.963300</td>\n",
       "      <td>7.955100</td>\n",
       "    </tr>\n",
       "    <tr>\n",
       "      <th>max</th>\n",
       "      <td>34404.000000</td>\n",
       "      <td>864863.000000</td>\n",
       "      <td>5351.000000</td>\n",
       "      <td>31.140000</td>\n",
       "      <td>37.034000</td>\n",
       "      <td>11.130000</td>\n",
       "      <td>250.784000</td>\n",
       "      <td>214.100000</td>\n",
       "      <td>485.701800</td>\n",
       "      <td>25.000000</td>\n",
       "      <td>...</td>\n",
       "      <td>66.110000</td>\n",
       "      <td>65.300000</td>\n",
       "      <td>5458.000000</td>\n",
       "      <td>424.000000</td>\n",
       "      <td>2367.800000</td>\n",
       "      <td>2364.420000</td>\n",
       "      <td>2434.900000</td>\n",
       "      <td>2437.000000</td>\n",
       "      <td>7.988300</td>\n",
       "      <td>8.047700</td>\n",
       "    </tr>\n",
       "  </tbody>\n",
       "</table>\n",
       "<p>8 rows × 70 columns</p>\n",
       "</div>"
      ],
      "text/plain": [
       "             Cst_Cnt        Btl_Cnt         Depthm         T_degC  \\\n",
       "count  864863.000000  864863.000000  864863.000000  853900.000000   \n",
       "mean    17138.790958  432432.000000     226.831951      10.799677   \n",
       "std     10240.949817  249664.587267     316.050259       4.243825   \n",
       "min         1.000000       1.000000       0.000000       1.440000   \n",
       "25%      8269.000000  216216.500000      46.000000       7.680000   \n",
       "50%     16848.000000  432432.000000     125.000000      10.060000   \n",
       "75%     26557.000000  648647.500000     300.000000      13.880000   \n",
       "max     34404.000000  864863.000000    5351.000000      31.140000   \n",
       "\n",
       "              Salnty         O2ml_L         STheta          O2Sat  \\\n",
       "count  817509.000000  696201.000000  812174.000000  661274.000000   \n",
       "mean       33.840350       3.392468      25.819394      57.103779   \n",
       "std         0.461843       2.073256       1.167787      37.094137   \n",
       "min        28.431000      -0.010000      20.934000      -0.100000   \n",
       "25%        33.488000       1.360000      24.965000      21.100000   \n",
       "50%        33.863000       3.440000      25.996000      54.400000   \n",
       "75%        34.196900       5.500000      26.646000      97.600000   \n",
       "max        37.034000      11.130000     250.784000     214.100000   \n",
       "\n",
       "         Oxy_µmol/Kg         BtlNum  ...         R_CHLA        R_PHAEO  \\\n",
       "count  661268.000000  118667.000000  ...  225276.000000  225275.000000   \n",
       "mean      148.808694      10.497426  ...       0.450225       0.198599   \n",
       "std        90.187533       6.189688  ...       1.208566       0.376539   \n",
       "min        -0.434900       0.000000  ...      -0.010000      -3.890000   \n",
       "25%        60.915470       5.000000  ...       0.050000       0.050000   \n",
       "50%       151.064150      10.000000  ...       0.160000       0.110000   \n",
       "75%       240.379600      16.000000  ...       0.390000       0.230000   \n",
       "max       485.701800      25.000000  ...      66.110000      65.300000   \n",
       "\n",
       "              R_PRES         R_SAMP         DIC1         DIC2          TA1  \\\n",
       "count  864863.000000  122006.000000  1999.000000   224.000000  2084.000000   \n",
       "mean      228.395694     162.071521  2153.239714  2168.148330  2256.055845   \n",
       "std       319.456731      85.722796   112.995202   154.852332    34.844435   \n",
       "min         0.000000       0.000000  1948.850000  1969.440000  2181.570000   \n",
       "25%        46.000000     200.000000  2028.330000  2008.977500  2230.322500   \n",
       "50%       126.000000     206.000000  2170.640000  2265.885000  2244.325000   \n",
       "75%       302.000000     214.000000  2253.810000  2315.525000  2278.505000   \n",
       "max      5458.000000     424.000000  2367.800000  2364.420000  2434.900000   \n",
       "\n",
       "               TA2        pH2        pH1  \n",
       "count   234.000000  10.000000  84.000000  \n",
       "mean   2278.858803   7.948570   7.910983  \n",
       "std      58.496495   0.021216   0.077666  \n",
       "min    2198.150000   7.923100   7.618300  \n",
       "25%    2229.062500   7.931475   7.898675  \n",
       "50%    2247.505000   7.946650   7.928850  \n",
       "75%    2316.452500   7.963300   7.955100  \n",
       "max    2437.000000   7.988300   8.047700  \n",
       "\n",
       "[8 rows x 70 columns]"
      ]
     },
     "execution_count": 3,
     "metadata": {},
     "output_type": "execute_result"
    }
   ],
   "source": [
    "df_bottle.describe()"
   ]
  },
  {
   "cell_type": "markdown",
   "id": "23fa58ed",
   "metadata": {},
   "source": [
    "Checking & Cleaning dataframe for NA-values"
   ]
  },
  {
   "cell_type": "code",
   "execution_count": 4,
   "id": "e8e8f400",
   "metadata": {},
   "outputs": [
    {
     "data": {
      "text/plain": [
       "Cst_Cnt                     0\n",
       "Btl_Cnt                     0\n",
       "Sta_ID                      0\n",
       "Depth_ID                    0\n",
       "Depthm                      0\n",
       "                        ...  \n",
       "TA1                    862779\n",
       "TA2                    864629\n",
       "pH2                    864853\n",
       "pH1                    864779\n",
       "DIC Quality Comment    864808\n",
       "Length: 74, dtype: int64"
      ]
     },
     "execution_count": 4,
     "metadata": {},
     "output_type": "execute_result"
    }
   ],
   "source": [
    "df_bottle.isnull().sum()"
   ]
  },
  {
   "cell_type": "markdown",
   "id": "d95e597b",
   "metadata": {},
   "source": [
    "We can see from the data above alot of missing values therefore we should address this issue:\n",
    "\n",
    "Columns with more than 80% NA-values will be dropped. The dropna-method needs an integer as threshold. This threshold is calculated in the following cell."
   ]
  },
  {
   "cell_type": "code",
   "execution_count": 5,
   "id": "5790a73e",
   "metadata": {},
   "outputs": [
    {
     "data": {
      "text/plain": [
       "(864863, 74)"
      ]
     },
     "execution_count": 5,
     "metadata": {},
     "output_type": "execute_result"
    }
   ],
   "source": [
    "df_bottle.shape # we start with data of 46 columns"
   ]
  },
  {
   "cell_type": "code",
   "execution_count": 6,
   "id": "1bb285ee",
   "metadata": {},
   "outputs": [
    {
     "data": {
      "text/plain": [
       "(864863, 26)"
      ]
     },
     "execution_count": 6,
     "metadata": {},
     "output_type": "execute_result"
    }
   ],
   "source": [
    "min_count =  int(df_bottle.shape[0]*0.8)\n",
    "\n",
    "df_bottle.dropna(axis=1, thresh= min_count, inplace= True)\n",
    "df_bottle.shape"
   ]
  },
  {
   "cell_type": "code",
   "execution_count": 7,
   "id": "80d72077",
   "metadata": {},
   "outputs": [
    {
     "name": "stdout",
     "output_type": "stream",
     "text": [
      "<class 'pandas.core.frame.DataFrame'>\n",
      "RangeIndex: 864863 entries, 0 to 864862\n",
      "Data columns (total 26 columns):\n",
      " #   Column      Non-Null Count   Dtype  \n",
      "---  ------      --------------   -----  \n",
      " 0   Cst_Cnt     864863 non-null  int64  \n",
      " 1   Btl_Cnt     864863 non-null  int64  \n",
      " 2   Sta_ID      864863 non-null  object \n",
      " 3   Depth_ID    864863 non-null  object \n",
      " 4   Depthm      864863 non-null  int64  \n",
      " 5   T_degC      853900 non-null  float64\n",
      " 6   Salnty      817509 non-null  float64\n",
      " 7   O2ml_L      696201 non-null  float64\n",
      " 8   STheta      812174 non-null  float64\n",
      " 9   RecInd      864863 non-null  int64  \n",
      " 10  T_prec      853900 non-null  float64\n",
      " 11  S_prec      817509 non-null  float64\n",
      " 12  NH3q        808299 non-null  float64\n",
      " 13  C14A1q      848605 non-null  float64\n",
      " 14  C14A2q      848623 non-null  float64\n",
      " 15  DarkAq      840440 non-null  float64\n",
      " 16  MeanAq      840439 non-null  float64\n",
      " 17  R_Depth     864863 non-null  float64\n",
      " 18  R_TEMP      853900 non-null  float64\n",
      " 19  R_POTEMP    818816 non-null  float64\n",
      " 20  R_SALINITY  817509 non-null  float64\n",
      " 21  R_SIGMA     812007 non-null  float64\n",
      " 22  R_SVA       812092 non-null  float64\n",
      " 23  R_DYNHT     818206 non-null  float64\n",
      " 24  R_O2        696201 non-null  float64\n",
      " 25  R_PRES      864863 non-null  int64  \n",
      "dtypes: float64(19), int64(5), object(2)\n",
      "memory usage: 171.6+ MB\n"
     ]
    }
   ],
   "source": [
    "df_bottle.info() # 16 columns remain after this condition."
   ]
  },
  {
   "cell_type": "markdown",
   "id": "3a824b4d",
   "metadata": {},
   "source": [
    "### Removing Categorial variables\n",
    "All columns that are \"object\" type or with less than 30 unique values are considered as categorical variables and will be removed."
   ]
  },
  {
   "cell_type": "code",
   "execution_count": 8,
   "id": "f2f6a610",
   "metadata": {},
   "outputs": [],
   "source": [
    "obj_var = df_bottle.select_dtypes(include='object').columns\n",
    "cat_var = []\n",
    "for variable in df_bottle.columns:\n",
    "    if df_bottle[variable].nunique() < 30:\n",
    "        cat_var.append(variable)\n",
    "\n",
    "cat_var.extend(obj_var)"
   ]
  },
  {
   "cell_type": "code",
   "execution_count": 9,
   "id": "1976a385",
   "metadata": {},
   "outputs": [
    {
     "name": "stdout",
     "output_type": "stream",
     "text": [
      "<class 'pandas.core.frame.DataFrame'>\n",
      "RangeIndex: 864863 entries, 0 to 864862\n",
      "Data columns (total 16 columns):\n",
      " #   Column      Non-Null Count   Dtype  \n",
      "---  ------      --------------   -----  \n",
      " 0   Cst_Cnt     864863 non-null  int64  \n",
      " 1   Btl_Cnt     864863 non-null  int64  \n",
      " 2   Depthm      864863 non-null  int64  \n",
      " 3   T_degC      853900 non-null  float64\n",
      " 4   Salnty      817509 non-null  float64\n",
      " 5   O2ml_L      696201 non-null  float64\n",
      " 6   STheta      812174 non-null  float64\n",
      " 7   R_Depth     864863 non-null  float64\n",
      " 8   R_TEMP      853900 non-null  float64\n",
      " 9   R_POTEMP    818816 non-null  float64\n",
      " 10  R_SALINITY  817509 non-null  float64\n",
      " 11  R_SIGMA     812007 non-null  float64\n",
      " 12  R_SVA       812092 non-null  float64\n",
      " 13  R_DYNHT     818206 non-null  float64\n",
      " 14  R_O2        696201 non-null  float64\n",
      " 15  R_PRES      864863 non-null  int64  \n",
      "dtypes: float64(12), int64(4)\n",
      "memory usage: 105.6 MB\n"
     ]
    }
   ],
   "source": [
    "df_bottle.drop(cat_var, axis= 1, inplace= True)\n",
    "df_bottle.info() # no categorial variables found after the first condition"
   ]
  },
  {
   "cell_type": "markdown",
   "id": "2839c0bd",
   "metadata": {},
   "source": [
    "### Removing Non-Relevant Data\n",
    "In addition to addressing missing values, it is also essential to eliminate columns that are not relevant to the analysis. Based on the field description of the CalCOFI dataset, it has been determined that the columns \"Cst_Cnt\" and \"Bsl_Cnt\" do not hold any significant value. As a result, these columns will be manually removed from the data."
   ]
  },
  {
   "cell_type": "code",
   "execution_count": 10,
   "id": "01a8650f",
   "metadata": {},
   "outputs": [],
   "source": [
    "df_bottle.drop(['Cst_Cnt', 'Btl_Cnt'], axis= 1, inplace= True)"
   ]
  },
  {
   "cell_type": "markdown",
   "id": "9a4286d5",
   "metadata": {},
   "source": [
    "### Removing Duplicate Columns\n",
    "In addition to removing non-relevant columns, it is also necessary to eliminate duplicates. The CalCOFI dataset includes of the following columns: \"R_TEMP\", \"R_POTEMP\", \"R_SALINITY\", \"R_O2\", \"R_DYNHT\", \"R_SIGMA\", \"R_SVA\", and \"R_Depth\", all under the \"Reported\" category. These columns will be manually dropped to ensure the accuracy and integrity of the analysis."
   ]
  },
  {
   "cell_type": "code",
   "execution_count": 11,
   "id": "b9f345a5",
   "metadata": {},
   "outputs": [],
   "source": [
    "df_bottle.drop(['R_TEMP', 'R_POTEMP', 'R_SALINITY', 'R_O2', 'R_DYNHT', 'R_SIGMA', 'R_SVA', 'R_Depth'], axis= 1, inplace= True)"
   ]
  },
  {
   "cell_type": "markdown",
   "id": "b9981994",
   "metadata": {},
   "source": [
    "### Handling Missing Values\n",
    "Due to the high number of available row-entries, all rows with missing interesting variables (T_degC, Salnty) will be dropped."
   ]
  },
  {
   "cell_type": "code",
   "execution_count": 12,
   "id": "2cf804c5",
   "metadata": {},
   "outputs": [
    {
     "data": {
      "text/plain": [
       "Depthm         0\n",
       "T_degC     10963\n",
       "Salnty     47354\n",
       "O2ml_L    168662\n",
       "STheta     52689\n",
       "R_PRES         0\n",
       "dtype: int64"
      ]
     },
     "execution_count": 12,
     "metadata": {},
     "output_type": "execute_result"
    }
   ],
   "source": [
    "df_bottle.isnull().sum()"
   ]
  },
  {
   "cell_type": "code",
   "execution_count": 13,
   "id": "f9407803",
   "metadata": {},
   "outputs": [
    {
     "data": {
      "text/plain": [
       "Depthm         0\n",
       "T_degC         0\n",
       "Salnty         0\n",
       "O2ml_L    152758\n",
       "STheta      2073\n",
       "R_PRES         0\n",
       "dtype: int64"
      ]
     },
     "execution_count": 13,
     "metadata": {},
     "output_type": "execute_result"
    }
   ],
   "source": [
    "df_bottle = df_bottle[df_bottle['T_degC'].notna()]\n",
    "df_bottle = df_bottle[df_bottle['Salnty'].notna()]\n",
    "df_bottle.isnull().sum()"
   ]
  },
  {
   "cell_type": "code",
   "execution_count": 14,
   "id": "7c951cb8",
   "metadata": {},
   "outputs": [],
   "source": [
    "non_empty_data_cnt = ((df_bottle.shape[0]-df_bottle['O2ml_L'].isnull().sum()) / df_bottle.shape[0])*100"
   ]
  },
  {
   "cell_type": "markdown",
   "id": "4e97187c",
   "metadata": {},
   "source": [
    "#### After conducting the calculation, it has been determined that removing all the row-entries with missing \"O2ml_L\" values would result in retaining 81.2% of the original data. Alternatively, missing values could be filled with the mean values to create a complete dataset. However, due to the large number of available row-entries, it has been decided to drop all missing \"O2ml_L\" rows for this analysis.\n",
    "\n",
    "A similar approach is taken with the \"STheta\" column. After evaluating the impact of removing this column, it has been determined that the effect is negligible."
   ]
  },
  {
   "cell_type": "code",
   "execution_count": 15,
   "id": "42092b42",
   "metadata": {},
   "outputs": [
    {
     "data": {
      "text/plain": [
       "Depthm    0\n",
       "T_degC    0\n",
       "Salnty    0\n",
       "O2ml_L    0\n",
       "STheta    0\n",
       "R_PRES    0\n",
       "dtype: int64"
      ]
     },
     "execution_count": 15,
     "metadata": {},
     "output_type": "execute_result"
    }
   ],
   "source": [
    "df_bottle = df_bottle[df_bottle['O2ml_L'].notna()]\n",
    "df_bottle = df_bottle[df_bottle['STheta'].notna()]\n",
    "df_bottle.isnull().sum()"
   ]
  },
  {
   "cell_type": "code",
   "execution_count": 16,
   "id": "312a06fa",
   "metadata": {},
   "outputs": [
    {
     "data": {
      "text/plain": [
       "(661268, 6)"
      ]
     },
     "execution_count": 16,
     "metadata": {},
     "output_type": "execute_result"
    }
   ],
   "source": [
    "df_bottle.shape"
   ]
  },
  {
   "cell_type": "markdown",
   "id": "545956a9",
   "metadata": {},
   "source": [
    "### Data Visualization"
   ]
  },
  {
   "cell_type": "code",
   "execution_count": 17,
   "id": "5ff253be",
   "metadata": {},
   "outputs": [
    {
     "data": {
      "image/png": "[encoded data removed]",
      "text/plain": [
       "<Figure size 432x288 with 1 Axes>"
      ]
     },
     "metadata": {
      "needs_background": "light"
     },
     "output_type": "display_data"
    }
   ],
   "source": [
    "plt.scatter(df_bottle[\"Salnty\"], df_bottle[\"T_degC\"],s=10)\n",
    "plt.xlabel('Water Salinity (‰)',fontsize=14)\n",
    "plt.ylabel('Water Temperature (°C)',fontsize=14)\n",
    "plt.title('Salinity vs Temperature in Water',fontsize=18)\n",
    "plt.show()\n"
   ]
  },
  {
   "cell_type": "markdown",
   "id": "f35e49a8",
   "metadata": {},
   "source": [
    "As depicted in the graph above, the data does not exhibit a clear relationship, This unclear relationship suggest additional factors to establish a clearer relationship. Further investigation reveals that water temperature is also influenced by water depth."
   ]
  },
  {
   "cell_type": "code",
   "execution_count": 18,
   "id": "517a3f3b",
   "metadata": {},
   "outputs": [
    {
     "data": {
      "image/png": "[encoded data removed]",
      "text/plain": [
       "<Figure size 432x288 with 1 Axes>"
      ]
     },
     "metadata": {
      "needs_background": "light"
     },
     "output_type": "display_data"
    },
    {
     "data": {
      "text/plain": [
       "219.7340004355269"
      ]
     },
     "execution_count": 18,
     "metadata": {},
     "output_type": "execute_result"
    }
   ],
   "source": [
    "plt.scatter(df_bottle[\"Depthm\"], df_bottle[\"T_degC\"],s=10)\n",
    "plt.xlabel('Water Depth (m)',fontsize=14)\n",
    "plt.ylabel('Water Temperature (°C)',fontsize=14)\n",
    "plt.title('Depth vs Temperature in Water',fontsize=18)\n",
    "plt.axvline(x = df_bottle[\"Depthm\"].mean(), color = 'r')\n",
    "plt.show()\n",
    "\n",
    "df_bottle[\"Depthm\"].mean()"
   ]
  },
  {
   "cell_type": "markdown",
   "id": "4347710c",
   "metadata": {},
   "source": [
    "As depicted in the graph above, the relationship between water temperature is also influenced by water depth with clear polynomial behavior.\n",
    "\n",
    "However, we can see 2 \"fangs\" the smaller one is probably offseted data from the actual measurement environment etc.. As a result, I tried to eliminate all values above the average water depth in order to clean the data and make it more reliable but it didn't work "
   ]
  },
  {
   "cell_type": "code",
   "execution_count": 19,
   "id": "5c151c73",
   "metadata": {},
   "outputs": [
    {
     "data": {
      "image/png": "[encoded data removed]",
      "text/plain": [
       "<Figure size 432x288 with 1 Axes>"
      ]
     },
     "metadata": {
      "needs_background": "light"
     },
     "output_type": "display_data"
    }
   ],
   "source": [
    "plt.scatter(df_bottle[\"Depthm\"], df_bottle[\"Salnty\"],s=10)\n",
    "plt.xlabel('Water Depth (m)',fontsize=14)\n",
    "plt.ylabel('Water Salinity (‰)',fontsize=14)\n",
    "plt.title('Depth vs Salinity in Water',fontsize=18)\n",
    "plt.show()\n"
   ]
  },
  {
   "cell_type": "markdown",
   "id": "6c2eedf5",
   "metadata": {},
   "source": [
    "Creating a heatmap to check the data for multicollinearity."
   ]
  },
  {
   "cell_type": "code",
   "execution_count": 20,
   "id": "14e20cdf",
   "metadata": {},
   "outputs": [],
   "source": [
    "target_variable = df_bottle.pop('T_degC')\n",
    "df_bottle_train, df_bottle_test, y_bottle_train, y_bottle_test = train_test_split(df_bottle, target_variable, test_size= 0.3 , random_state= 1)"
   ]
  },
  {
   "cell_type": "code",
   "execution_count": 21,
   "id": "4680fbb3",
   "metadata": {},
   "outputs": [],
   "source": [
    "from sklearn.preprocessing import MinMaxScaler\n",
    "scaler=MinMaxScaler()\n",
    "\n",
    "# fit scaler to training and test data\n",
    "df_bottle_train_scaled = scaler.fit_transform(df_bottle_train)\n",
    "df_bottle_test_scaled = scaler.fit_transform(df_bottle_test)\n",
    "\n",
    "y_bottle_train_scaled = scaler.fit_transform(np.asarray(y_bottle_train).reshape(-1, 1))\n",
    "y_bottle_test_scaled = scaler.fit_transform(np.asarray(y_bottle_test).reshape(-1, 1))\n",
    "\n",
    "# create a dataframe\n",
    "df_bottle_train_scaled = pd.DataFrame(df_bottle_train_scaled, columns= df_bottle_train.columns)\n",
    "df_bottle_test_scaled = pd.DataFrame(df_bottle_test_scaled, columns= df_bottle_test.columns)"
   ]
  },
  {
   "cell_type": "code",
   "execution_count": 22,
   "id": "ffffa679",
   "metadata": {},
   "outputs": [
    {
     "data": {
      "text/html": [
       "<div>\n",
       "<style scoped>\n",
       "    .dataframe tbody tr th:only-of-type {\n",
       "        vertical-align: middle;\n",
       "    }\n",
       "\n",
       "    .dataframe tbody tr th {\n",
       "        vertical-align: top;\n",
       "    }\n",
       "\n",
       "    .dataframe thead th {\n",
       "        text-align: right;\n",
       "    }\n",
       "</style>\n",
       "<table border=\"1\" class=\"dataframe\">\n",
       "  <thead>\n",
       "    <tr style=\"text-align: right;\">\n",
       "      <th></th>\n",
       "      <th>Depthm</th>\n",
       "      <th>Salnty</th>\n",
       "      <th>O2ml_L</th>\n",
       "      <th>STheta</th>\n",
       "      <th>R_PRES</th>\n",
       "    </tr>\n",
       "  </thead>\n",
       "  <tbody>\n",
       "    <tr>\n",
       "      <th>count</th>\n",
       "      <td>462887.000000</td>\n",
       "      <td>462887.000000</td>\n",
       "      <td>462887.000000</td>\n",
       "      <td>462887.000000</td>\n",
       "      <td>462887.000000</td>\n",
       "    </tr>\n",
       "    <tr>\n",
       "      <th>mean</th>\n",
       "      <td>0.041039</td>\n",
       "      <td>0.580572</td>\n",
       "      <td>0.320046</td>\n",
       "      <td>0.680940</td>\n",
       "      <td>0.040505</td>\n",
       "    </tr>\n",
       "    <tr>\n",
       "      <th>std</th>\n",
       "      <td>0.057985</td>\n",
       "      <td>0.060318</td>\n",
       "      <td>0.193312</td>\n",
       "      <td>0.143080</td>\n",
       "      <td>0.057468</td>\n",
       "    </tr>\n",
       "    <tr>\n",
       "      <th>min</th>\n",
       "      <td>0.000000</td>\n",
       "      <td>0.000000</td>\n",
       "      <td>0.000000</td>\n",
       "      <td>0.000000</td>\n",
       "      <td>0.000000</td>\n",
       "    </tr>\n",
       "    <tr>\n",
       "      <th>25%</th>\n",
       "      <td>0.009157</td>\n",
       "      <td>0.534329</td>\n",
       "      <td>0.131776</td>\n",
       "      <td>0.559336</td>\n",
       "      <td>0.008978</td>\n",
       "    </tr>\n",
       "    <tr>\n",
       "      <th>50%</th>\n",
       "      <td>0.023360</td>\n",
       "      <td>0.583333</td>\n",
       "      <td>0.325234</td>\n",
       "      <td>0.705799</td>\n",
       "      <td>0.023085</td>\n",
       "    </tr>\n",
       "    <tr>\n",
       "      <th>75%</th>\n",
       "      <td>0.056064</td>\n",
       "      <td>0.626690</td>\n",
       "      <td>0.515888</td>\n",
       "      <td>0.799376</td>\n",
       "      <td>0.055332</td>\n",
       "    </tr>\n",
       "    <tr>\n",
       "      <th>max</th>\n",
       "      <td>1.000000</td>\n",
       "      <td>1.000000</td>\n",
       "      <td>1.000000</td>\n",
       "      <td>1.000000</td>\n",
       "      <td>1.000000</td>\n",
       "    </tr>\n",
       "  </tbody>\n",
       "</table>\n",
       "</div>"
      ],
      "text/plain": [
       "              Depthm         Salnty         O2ml_L         STheta  \\\n",
       "count  462887.000000  462887.000000  462887.000000  462887.000000   \n",
       "mean        0.041039       0.580572       0.320046       0.680940   \n",
       "std         0.057985       0.060318       0.193312       0.143080   \n",
       "min         0.000000       0.000000       0.000000       0.000000   \n",
       "25%         0.009157       0.534329       0.131776       0.559336   \n",
       "50%         0.023360       0.583333       0.325234       0.705799   \n",
       "75%         0.056064       0.626690       0.515888       0.799376   \n",
       "max         1.000000       1.000000       1.000000       1.000000   \n",
       "\n",
       "              R_PRES  \n",
       "count  462887.000000  \n",
       "mean        0.040505  \n",
       "std         0.057468  \n",
       "min         0.000000  \n",
       "25%         0.008978  \n",
       "50%         0.023085  \n",
       "75%         0.055332  \n",
       "max         1.000000  "
      ]
     },
     "execution_count": 22,
     "metadata": {},
     "output_type": "execute_result"
    }
   ],
   "source": [
    "df_bottle_train_scaled.describe()"
   ]
  },
  {
   "cell_type": "code",
   "execution_count": 23,
   "id": "379d7fe9",
   "metadata": {},
   "outputs": [
    {
     "data": {
      "text/plain": [
       "<AxesSubplot:>"
      ]
     },
     "execution_count": 23,
     "metadata": {},
     "output_type": "execute_result"
    },
    {
     "data": {
      "image/png": "[encoded data removed]",
      "text/plain": [
       "<Figure size 432x288 with 2 Axes>"
      ]
     },
     "metadata": {
      "needs_background": "light"
     },
     "output_type": "display_data"
    }
   ],
   "source": [
    "sns.heatmap(df_bottle_train_scaled.corr(), annot= True)\n"
   ]
  },
  {
   "cell_type": "markdown",
   "id": "fa3c0ac3",
   "metadata": {},
   "source": [
    "### Creating Model"
   ]
  },
  {
   "cell_type": "code",
   "execution_count": 24,
   "id": "0ef109da",
   "metadata": {},
   "outputs": [],
   "source": [
    "from sklearn.linear_model import Ridge\n",
    "\n",
    "# Initialize the model\n",
    "model_ridge = Ridge()\n",
    "\n",
    "# Training of the Ridge Regression model with the trainings data\n",
    "model_ridge.fit(df_bottle_train_scaled, y_bottle_train_scaled)\n",
    "\n",
    "# Testing the model with the unknown test-data using the predict method\n",
    "ridge_pred = model_ridge.predict(df_bottle_test_scaled)"
   ]
  },
  {
   "cell_type": "code",
   "execution_count": 25,
   "id": "a0d4e59f",
   "metadata": {},
   "outputs": [
    {
     "name": "stdout",
     "output_type": "stream",
     "text": [
      "0.9805030822228783\n",
      "0.015491581441785212\n"
     ]
    }
   ],
   "source": [
    "# R-squared score\n",
    "print(r2_score(y_bottle_test_scaled, ridge_pred))\n",
    "\n",
    "# Mean absolute error\n",
    "print(mean_absolute_error(y_bottle_test_scaled, ridge_pred))"
   ]
  },
  {
   "cell_type": "code",
   "execution_count": 26,
   "id": "1dcee67c",
   "metadata": {},
   "outputs": [
    {
     "name": "stdout",
     "output_type": "stream",
     "text": [
      "Intercept: [0.52805897]\n",
      "Depthm: -0.2796420591519724\n",
      "Salnty: 0.9084119115469668\n",
      "O2ml_L: 0.05225601392344249\n",
      "STheta: -1.0895286965243012\n",
      "R_PRES: 0.004821835389416069\n"
     ]
    }
   ],
   "source": [
    "# Print the coefficients\n",
    "coefficients = model_ridge.coef_\n",
    "intercept = model_ridge.intercept_\n",
    "features = df_bottle_train.columns\n",
    "\n",
    "print(\"Intercept:\", intercept)\n",
    "i = 0\n",
    "for feature in features:\n",
    "    print(f\"{feature}: {coefficients[0][i]}\")\n",
    "    i+=1"
   ]
  },
  {
   "cell_type": "markdown",
   "id": "3a94d9a0",
   "metadata": {},
   "source": [
    "Cold water has a higher density than warm water. Water gets colder with depth because cold, salty ocean water sinks to the bottom of the ocean basins below the less dense warmer water near the surface.\n",
    "SO THE INTERCEPT MAKES NO SENSE PROBABLY OVERFIT"
   ]
  },
  {
   "cell_type": "code",
   "execution_count": null,
   "id": "758b396f",
   "metadata": {},
   "outputs": [],
   "source": []
  }
 ],
 "metadata": {
  "kernelspec": {
   "display_name": "Python 3 (ipykernel)",
   "language": "python",
   "name": "python3"
  },
  "language_info": {
   "codemirror_mode": {
    "name": "ipython",
    "version": 3
   },
   "file_extension": ".py",
   "mimetype": "text/x-python",
   "name": "python",
   "nbconvert_exporter": "python",
   "pygments_lexer": "ipython3",
   "version": "3.9.12"
  }
 },
 "nbformat": 4,
 "nbformat_minor": 5
}
